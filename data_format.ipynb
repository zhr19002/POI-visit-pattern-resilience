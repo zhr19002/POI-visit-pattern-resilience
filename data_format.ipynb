{
 "cells": [
  {
   "cell_type": "markdown",
   "metadata": {},
   "source": [
    "### Data Format"
   ]
  },
  {
   "cell_type": "code",
   "execution_count": 1,
   "metadata": {},
   "outputs": [],
   "source": [
    "import numpy as np\n",
    "import pandas as pd\n",
    "\n",
    "df = pd.read_excel('Panama_baseline.xlsx','Sheet1')\n",
    "\n",
    "#Add \"count\" column\n",
    "data_baseline = pd.read_excel('Panama_baseline.xlsx','Sheet1')\n",
    "data_baseline['count'] = 1\n",
    "data_baseline = data_baseline.groupby('category').agg({'count':'count'}).reset_index()\n",
    "count_dic = dict([(i,j) for i,j in zip(data_baseline['category'],data_baseline['count'])])\n",
    "count = []\n",
    "for i in range(len(df)):\n",
    "    if df['category'][i] in count_dic:\n",
    "        count.append(count_dic[df['category'][i]])\n",
    "    else:\n",
    "        count.append(np.nan)\n",
    "df['count'] = count\n",
    "\n",
    "#Add \"pattern\" column\n",
    "data_hurricane = pd.read_excel('Panama_hurricane.xlsx','Sheet1')\n",
    "pattern_dic = dict([(i,j) for i,j in zip(data_hurricane['placekey'],data_hurricane['pattern'])])\n",
    "pattern = []\n",
    "for i in range(len(df)):\n",
    "    if df['placekey'][i] in data_hurricane['placekey'].values:\n",
    "        pattern.append(pattern_dic[df['placekey'][i]])\n",
    "    else:\n",
    "        pattern.append(np.nan)\n",
    "df['pattern'] = pattern\n",
    "\n",
    "#Add \"function\" column\n",
    "function_dic = {}\n",
    "for key in count_dic.keys():\n",
    "    if key in [22.0,23.0,31.0,32.0,33.0,48.0,49.0,52.0,53.0,54.0]: #Recovery activity\n",
    "        function_dic[key] = 1\n",
    "    elif key in [42.0,44.0,45.0]: #Emergency preparedness\n",
    "        function_dic[key] = 2\n",
    "    elif key in [51.0,56.0,92.0]: #Emergency response\n",
    "        function_dic[key] = 3\n",
    "    elif key in [61.0,62.0,71.0,72.0]: #Lifestyle and well-being\n",
    "        function_dic[key] = 4\n",
    "    else:\n",
    "        function_dic[key] = 5\n",
    "function = []\n",
    "for i in range(len(df)):\n",
    "    if df['category'][i] in function_dic:\n",
    "        function.append(function_dic[df['category'][i]])\n",
    "    else:\n",
    "        function.append(np.nan)\n",
    "df['function'] = function\n",
    "\n",
    "#Export to Excel\n",
    "df = df[['category','count','raw_visit_counts','distance_from_home','function','pattern']]\n",
    "df = df.dropna()\n",
    "df.to_excel('Panama.xlsx',index=False)"
   ]
  },
  {
   "cell_type": "code",
   "execution_count": null,
   "metadata": {},
   "outputs": [],
   "source": []
  }
 ],
 "metadata": {
  "kernelspec": {
   "display_name": "Python 3",
   "language": "python",
   "name": "python3"
  },
  "language_info": {
   "codemirror_mode": {
    "name": "ipython",
    "version": 3
   },
   "file_extension": ".py",
   "mimetype": "text/x-python",
   "name": "python",
   "nbconvert_exporter": "python",
   "pygments_lexer": "ipython3",
   "version": "3.7.3"
  }
 },
 "nbformat": 4,
 "nbformat_minor": 2
}
