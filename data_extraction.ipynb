{
 "cells": [
  {
   "cell_type": "code",
   "execution_count": 3,
   "id": "f03b74e4",
   "metadata": {},
   "outputs": [],
   "source": [
    "import pandas as pd\n",
    "\n",
    "#original_data = pd.read_csv('core_poi-patterns_baseline.csv')\n",
    "#original_data = pd.read_csv('core_poi-patterns_hurricane.csv')\n",
    "original_data = pd.read_csv('core_poi-patterns_extension.csv')\n",
    "\n",
    "data_1 = original_data[original_data['city'].isin(['Panama City'])]\n",
    "data_2 = original_data[original_data['city'].isin(['Panama City Beach'])]\n",
    "data_3 = original_data[original_data['city'].isin(['Tallahassee'])]\n",
    "data_4 = original_data[original_data['city'].isin(['Pensacola'])]\n",
    "\n",
    "data_1 = data_1[['placekey','naics_code','postal_code','date_range_start','date_range_end','raw_visit_counts','raw_visitor_counts','visits_by_day','distance_from_home','visitor_home_aggregation']]\n",
    "data_2 = data_2[['placekey','naics_code','postal_code','date_range_start','date_range_end','raw_visit_counts','raw_visitor_counts','visits_by_day','distance_from_home','visitor_home_aggregation']]\n",
    "data_3 = data_3[['placekey','naics_code','postal_code','date_range_start','date_range_end','raw_visit_counts','raw_visitor_counts','visits_by_day','distance_from_home','visitor_home_aggregation']]\n",
    "data_4 = data_4[['placekey','naics_code','postal_code','date_range_start','date_range_end','raw_visit_counts','raw_visitor_counts','visits_by_day','distance_from_home','visitor_home_aggregation']]\n",
    "\n",
    "#data_1.to_excel('Panama_city_baseline.xlsx',index=False)\n",
    "#data_2.to_excel('Panama_city_beach_baseline.xlsx',index=False)\n",
    "#data_3.to_excel('Tallahassee_baseline.xlsx',index=False)\n",
    "#data_4.to_excel('Pensacola_baseline.xlsx',index=False)\n",
    "\n",
    "#data_1.to_excel('Panama_city_hurricane.xlsx',index=False)\n",
    "#data_2.to_excel('Panama_city_beach_hurricane.xlsx',index=False)\n",
    "#data_3.to_excel('Tallahassee_hurricane.xlsx',index=False)\n",
    "#data_4.to_excel('Pensacola_hurricane.xlsx',index=False)\n",
    "\n",
    "data_1.to_excel('Panama_city_extension.xlsx',index=False)\n",
    "data_2.to_excel('Panama_city_beach_extension.xlsx',index=False)\n",
    "data_3.to_excel('Tallahassee_extension.xlsx',index=False)\n",
    "data_4.to_excel('Pensacola_extension.xlsx',index=False)"
   ]
  },
  {
   "cell_type": "code",
   "execution_count": null,
   "id": "4365ac06",
   "metadata": {},
   "outputs": [],
   "source": []
  }
 ],
 "metadata": {
  "kernelspec": {
   "display_name": "Python 3 (ipykernel)",
   "language": "python",
   "name": "python3"
  },
  "language_info": {
   "codemirror_mode": {
    "name": "ipython",
    "version": 3
   },
   "file_extension": ".py",
   "mimetype": "text/x-python",
   "name": "python",
   "nbconvert_exporter": "python",
   "pygments_lexer": "ipython3",
   "version": "3.7.11"
  }
 },
 "nbformat": 4,
 "nbformat_minor": 5
}
