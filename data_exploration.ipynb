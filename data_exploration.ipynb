{
 "cells": [
  {
   "cell_type": "markdown",
   "metadata": {},
   "source": [
    "### Data Extraction"
   ]
  },
  {
   "cell_type": "code",
   "execution_count": 6,
   "metadata": {},
   "outputs": [],
   "source": [
    "import pandas as pd\n",
    "\n",
    "original_data = pd.read_csv('core_poi-patterns_hurricane.csv')\n",
    "#original_data = pd.read_csv('core_poi-patterns_baseline.csv')\n",
    "data = original_data[(original_data['city']=='Panama City') | (original_data['city']=='Panama City Beach')]\n",
    "data = data[['placekey','naics_code','postal_code','date_range_start','date_range_end','raw_visit_counts','raw_visitor_counts','visits_by_day','distance_from_home','visitor_home_aggregation']]\n",
    "data.to_excel('Panama_hurricane.xlsx',index=False)\n",
    "#data.to_excel('Panama_baseline.xlsx',index=False)"
   ]
  },
  {
   "cell_type": "markdown",
   "metadata": {},
   "source": [
    "### Data Exploration"
   ]
  },
  {
   "cell_type": "code",
   "execution_count": 12,
   "metadata": {},
   "outputs": [],
   "source": [
    "import pandas as pd\n",
    "\n",
    "data1 = pd.read_excel('Panama_hurricane.xlsx','Pattern1')\n",
    "data1['count'] = 1\n",
    "data1 = data1.groupby('category').agg({'count':'count'}).reset_index()\n",
    "\n",
    "data2 = pd.read_excel('Panama_hurricane.xlsx','Pattern2')\n",
    "data2['count'] = 1\n",
    "data2 = data2.groupby('category').agg({'count':'count'}).reset_index()\n",
    "\n",
    "data3 = pd.read_excel('Panama_hurricane.xlsx','Pattern3')\n",
    "data3['count'] = 1\n",
    "data3 = data3.groupby('category').agg({'count':'count'}).reset_index()\n",
    "\n",
    "data4 = pd.read_excel('Panama_hurricane.xlsx','Pattern4')\n",
    "data4['count'] = 1\n",
    "data4 = data4.groupby('category').agg({'count':'count'}).reset_index()\n",
    "\n",
    "data = pd.concat([data1,data2,data3,data4], axis=1)\n",
    "data.to_excel('Panama_category.xlsx',index=False)"
   ]
  },
  {
   "cell_type": "code",
   "execution_count": null,
   "metadata": {},
   "outputs": [],
   "source": []
  }
 ],
 "metadata": {
  "kernelspec": {
   "display_name": "Python 3",
   "language": "python",
   "name": "python3"
  },
  "language_info": {
   "codemirror_mode": {
    "name": "ipython",
    "version": 3
   },
   "file_extension": ".py",
   "mimetype": "text/x-python",
   "name": "python",
   "nbconvert_exporter": "python",
   "pygments_lexer": "ipython3",
   "version": "3.7.3"
  }
 },
 "nbformat": 4,
 "nbformat_minor": 2
}
