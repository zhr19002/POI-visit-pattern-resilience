{
 "cells": [
  {
   "cell_type": "code",
   "execution_count": null,
   "id": "1b748cc7",
   "metadata": {},
   "outputs": [],
   "source": [
    "import pandas as pd\n",
    "\n",
    "#original_data = pd.read_csv('core_poi-patterns_2018_09.csv')\n",
    "#original_data = pd.read_csv('core_poi-patterns_2018_10.csv')\n",
    "#original_data = pd.read_csv('core_poi-patterns_2018_11.csv')\n",
    "original_data = pd.read_csv('core_poi-patterns_2018_12.csv')\n",
    "\n",
    "data_09 = original_data[original_data['city'].isin(['Panama City'])]\n",
    "data_10 = original_data[original_data['city'].isin(['Panama City Beach'])]\n",
    "data_11 = original_data[original_data['city'].isin(['Tallahassee'])]\n",
    "data_12 = original_data[original_data['city'].isin(['Pensacola'])]\n",
    "\n",
    "data_09 = data_09[['placekey','naics_code','postal_code','date_range_start','date_range_end','raw_visit_counts','raw_visitor_counts','visits_by_day','distance_from_home','visitor_home_aggregation']]\n",
    "data_10 = data_10[['placekey','naics_code','postal_code','date_range_start','date_range_end','raw_visit_counts','raw_visitor_counts','visits_by_day','distance_from_home','visitor_home_aggregation']]\n",
    "data_11 = data_11[['placekey','naics_code','postal_code','date_range_start','date_range_end','raw_visit_counts','raw_visitor_counts','visits_by_day','distance_from_home','visitor_home_aggregation']]\n",
    "data_12 = data_12[['placekey','naics_code','postal_code','date_range_start','date_range_end','raw_visit_counts','raw_visitor_counts','visits_by_day','distance_from_home','visitor_home_aggregation']]\n",
    "\n",
    "#data_09.to_excel('Panama_city_2018_09.xlsx',index=False)\n",
    "#data_10.to_excel('Panama_city_beach_2018_09.xlsx',index=False)\n",
    "#data_11.to_excel('Tallahassee_2018_09.xlsx',index=False)\n",
    "#data_12.to_excel('Pensacola_2018_09.xlsx',index=False)\n",
    "\n",
    "#data_09.to_excel('Panama_city_2018_10.xlsx',index=False)\n",
    "#data_10.to_excel('Panama_city_beach_2018_10.xlsx',index=False)\n",
    "#data_11.to_excel('Tallahassee_2018_10.xlsx',index=False)\n",
    "#data_12.to_excel('Pensacola_2018_10.xlsx',index=False)\n",
    "\n",
    "#data_09.to_excel('Panama_city_2018_11.xlsx',index=False)\n",
    "#data_10.to_excel('Panama_city_beach_2018_11.xlsx',index=False)\n",
    "#data_11.to_excel('Tallahassee_2018_11.xlsx',index=False)\n",
    "#data_12.to_excel('Pensacola_2018_11.xlsx',index=False)\n",
    "\n",
    "data_09.to_excel('Panama_city_2018_12.xlsx',index=False)\n",
    "data_10.to_excel('Panama_city_beach_2018_12.xlsx',index=False)\n",
    "data_11.to_excel('Tallahassee_2018_12.xlsx',index=False)\n",
    "data_12.to_excel('Pensacola_2018_12.xlsx',index=False)"
   ]
  }
 ],
 "metadata": {
  "kernelspec": {
   "display_name": "Python 3 (ipykernel)",
   "language": "python",
   "name": "python3"
  },
  "language_info": {
   "codemirror_mode": {
    "name": "ipython",
    "version": 3
   },
   "file_extension": ".py",
   "mimetype": "text/x-python",
   "name": "python",
   "nbconvert_exporter": "python",
   "pygments_lexer": "ipython3",
   "version": "3.7.11"
  }
 },
 "nbformat": 4,
 "nbformat_minor": 5
}
